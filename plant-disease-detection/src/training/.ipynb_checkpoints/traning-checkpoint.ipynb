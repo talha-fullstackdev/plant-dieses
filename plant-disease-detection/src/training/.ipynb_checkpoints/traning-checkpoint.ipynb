{
 "cells": [
  {
   "cell_type": "code",
   "execution_count": null,
   "id": "e32403e6-4965-405b-8913-317722edc555",
   "metadata": {
    "vscode": {
     "languageId": "python"
    }
   },
   "outputs": [],
   "source": [
    "input_shape = (BATCH_SIZE, IMAGE_SIZE, IMAGE_SIZE, CHANNELS)\n",
    "n_classes = 3\n",
    "\n",
    "model = models.Sequential([\n",
    "    resize_and_rescale,\n",
    "    layers.Conv2D(32, kernel_size = (3,3), activation='relu', input_shape=input_shape),\n",
    "    layers.MaxPooling2D((2, 2)),\n",
    "    layers.Conv2D(64,  kernel_size = (3,3), activation='relu'),\n",
    "    layers.MaxPooling2D((2, 2)),\n",
    "    layers.Conv2D(64,  kernel_size = (3,3), activation='relu'),\n",
    "    layers.MaxPooling2D((2, 2)),\n",
    "    layers.Conv2D(64, (3, 3), activation='relu'),\n",
    "    layers.MaxPooling2D((2, 2)),\n",
    "    layers.Conv2D(64, (3, 3), activation='relu'),\n",
    "    layers.MaxPooling2D((2, 2)),\n",
    "    layers.Conv2D(64, (3, 3), activation='relu'),\n",
    "    layers.MaxPooling2D((2, 2)),\n",
    "    layers.Flatten(),\n",
    "    layers.Dense(64, activation='relu'),\n",
    "    layers.Dense(n_classes, activation='softmax'),\n",
    "])\n",
    "\n",
    "model.build(input_shape=input_shape)"
   ]
  },
  {
   "cell_type": "code",
   "execution_count": null,
   "id": "399bf85b",
   "metadata": {
    "vscode": {
     "languageId": "python"
    }
   },
   "outputs": [],
   "source": [
    "def get_dataset_partitions_tf(ds, train_split=0.8, val_split=0.1, test_split=0.1, shuffle=True, shuffle_size=10000):\n",
    "    assert (train_split + test_split + val_split) == 1\n",
    "    \n",
    "    ds_size = len(ds)\n",
    "    \n",
    "    if shuffle:\n",
    "        ds = ds.shuffle(shuffle_size, seed=12)\n",
    "    \n",
    "    train_size = int(train_split * ds_size)\n",
    "    val_size = int(val_split * ds_size)\n",
    "    \n",
    "    train_ds = ds.take(train_size)    \n",
    "    val_ds = ds.skip(train_size).take(val_size)\n",
    "    test_ds = ds.skip(train_size).skip(val_size)\n",
    "    \n",
    "    return train_ds, val_ds, test_ds"
   ]
  },
  {
   "cell_type": "code",
   "execution_count": null,
   "id": "ebbbbb50",
   "metadata": {
    "vscode": {
     "languageId": "python"
    }
   },
   "outputs": [],
   "source": [
    "export const diseases = [\n",
    "  { name: 'Powdery Mildew', cure: 'Remove infected leaves and apply fungicide.' },\n",
    "  { name: 'Downy Mildew', cure: 'Improve air circulation and use copper-based fungicide.' },\n",
    "  { name: 'Leaf Spot', cure: 'Remove affected leaves and avoid overhead watering.' },\n",
    "  { name: 'Root Rot', cure: 'Ensure well-draining soil and reduce watering.' },\n",
    "  { name: 'Blight', cure: 'Remove infected plants and rotate crops.' },\n",
    "  { name: 'Rust', cure: 'Remove infected leaves and use sulfur spray.' },\n",
    "  { name: 'Anthracnose', cure: 'Prune affected areas and apply appropriate fungicide.' },\n",
    "  { name: 'Wilt', cure: 'Remove and destroy infected plants.' },\n",
    "  { name: 'Canker', cure: 'Prune out cankers and disinfect tools.' },\n",
    "  { name: 'Mosaic Virus', cure: 'Remove infected plants and control insect vectors.' },\n",
    "  { name: 'Scab', cure: 'Use disease-free seeds and rotate crops.' },\n",
    "  { name: 'Sooty Mold', cure: 'Control insect pests and wash leaves.' },\n",
    "  { name: 'Bacterial Spot', cure: 'Use copper sprays and resistant varieties.' },\n",
    "  { name: 'Crown Gall', cure: 'Remove and destroy infected plants.' },\n",
    "  { name: 'Fusarium Wilt', cure: 'Use resistant varieties and rotate crops.' },\n",
    "  { name: 'Verticillium Wilt', cure: 'Remove infected plants and solarize soil.' },\n",
    "  { name: 'Clubroot', cure: 'Raise soil pH and rotate crops.' },\n",
    "  { name: 'Black Rot', cure: 'Remove infected leaves and use disease-free seeds.' },\n",
    "  { name: 'Botrytis', cure: 'Improve air circulation and remove dead tissue.' },\n",
    "  { name: 'Pythium Rot', cure: 'Improve drainage and avoid overwatering.' },\n",
    "]"
   ]
  }
 ],
 "metadata": {
  "kernelspec": {
   "display_name": "",
   "name": ""
  },
  "language_info": {
   "name": ""
  }
 },
 "nbformat": 4,
 "nbformat_minor": 5
}
